{
 "cells": [
  {
   "cell_type": "markdown",
   "id": "c1cbae1b",
   "metadata": {},
   "source": [
    "## Load data"
   ]
  },
  {
   "cell_type": "code",
   "execution_count": 3,
   "id": "71f47aaa",
   "metadata": {},
   "outputs": [
    {
     "name": "stdout",
     "output_type": "stream",
     "text": [
      "Loading cached data...\n"
     ]
    }
   ],
   "source": [
    "import sys\n",
    "import os\n",
    "import pandas as pd\n",
    "import numpy as np\n",
    "sys.path.insert(0, os.path.abspath(os.path.join(os.path.curdir, '..', 'src')))\n",
    "\n",
    "dataset_path = '../dataset/unc-dr_aie.h5'\n",
    "with pd.HDFStore(dataset_path, mode='a') as store:\n",
    "    print(\"Loading cached data...\")\n",
    "    for i, subdf in store['fc_data'].groupby('CellID', observed=True):\n",
    "        if i == 0:\n",
    "            df = subdf[['SubjectID', 'Pretreatment', 'Sex']].reset_index(drop=True)\n",
    "    subjs = df['SubjectID'].unique()\n",
    "    zstacks = []\n",
    "    for i, subj in enumerate(subjs):\n",
    "        corr_df = store[f\"{subj.replace('-', '_')}/corr\"]\n",
    "        df_clipped = corr_df.clip(lower=-0.999999, upper=0.999999)\n",
    "        df_z = df_clipped.map(np.arctanh).to_numpy()\n",
    "        if i == 0:\n",
    "            indice = np.tril_indices_from(df_z, k=-1)\n",
    "        zstacks.append(df_z[indice])\n",
    "zarray = np.stack(zstacks, 0)"
   ]
  },
  {
   "cell_type": "markdown",
   "id": "13537a37",
   "metadata": {},
   "source": [
    "## OLS fitting"
   ]
  },
  {
   "cell_type": "code",
   "execution_count": 4,
   "id": "26e744ce",
   "metadata": {},
   "outputs": [
    {
     "data": {
      "text/plain": [
       "<camri.stats.model.ols.OLS at 0x7477e411fa30>"
      ]
     },
     "execution_count": 4,
     "metadata": {},
     "output_type": "execute_result"
    }
   ],
   "source": [
    "from camri.stats.model.ols import OLS\n",
    "\n",
    "df['Sex'] = pd.Categorical(df['Sex'], categories=['Female', 'Male'], ordered=True)\n",
    "\n",
    "model = 'Fisher_z ~ C(Pretreatment, Treatment(reference=\"Water\")) * C(Sex, Sum)'\n",
    "model_est = OLS(model, df=df, y=zarray)\n",
    "model_est.fit()"
   ]
  },
  {
   "cell_type": "markdown",
   "id": "2b290d86",
   "metadata": {},
   "source": [
    "### Statsmodels "
   ]
  },
  {
   "cell_type": "code",
   "execution_count": 5,
   "id": "72743b48",
   "metadata": {},
   "outputs": [
    {
     "data": {
      "text/html": [
       "<div>\n",
       "<style scoped>\n",
       "    .dataframe tbody tr th:only-of-type {\n",
       "        vertical-align: middle;\n",
       "    }\n",
       "\n",
       "    .dataframe tbody tr th {\n",
       "        vertical-align: top;\n",
       "    }\n",
       "\n",
       "    .dataframe thead th {\n",
       "        text-align: right;\n",
       "    }\n",
       "</style>\n",
       "<table border=\"1\" class=\"dataframe\">\n",
       "  <thead>\n",
       "    <tr style=\"text-align: right;\">\n",
       "      <th></th>\n",
       "      <th>sum_sq</th>\n",
       "      <th>df</th>\n",
       "      <th>F</th>\n",
       "      <th>PR(&gt;F)</th>\n",
       "    </tr>\n",
       "  </thead>\n",
       "  <tbody>\n",
       "    <tr>\n",
       "      <th>Intercept</th>\n",
       "      <td>20.337391</td>\n",
       "      <td>1.0</td>\n",
       "      <td>249.790432</td>\n",
       "      <td>4.898356e-18</td>\n",
       "    </tr>\n",
       "    <tr>\n",
       "      <th>C(Pretreatment, Treatment(reference=\"Water\"))</th>\n",
       "      <td>0.009512</td>\n",
       "      <td>1.0</td>\n",
       "      <td>0.116835</td>\n",
       "      <td>7.344268e-01</td>\n",
       "    </tr>\n",
       "    <tr>\n",
       "      <th>C(Sex, Sum)</th>\n",
       "      <td>0.140762</td>\n",
       "      <td>1.0</td>\n",
       "      <td>1.728886</td>\n",
       "      <td>1.966449e-01</td>\n",
       "    </tr>\n",
       "    <tr>\n",
       "      <th>C(Pretreatment, Treatment(reference=\"Water\")):C(Sex, Sum)</th>\n",
       "      <td>0.002813</td>\n",
       "      <td>1.0</td>\n",
       "      <td>0.034548</td>\n",
       "      <td>8.535608e-01</td>\n",
       "    </tr>\n",
       "    <tr>\n",
       "      <th>Residual</th>\n",
       "      <td>3.012459</td>\n",
       "      <td>37.0</td>\n",
       "      <td>NaN</td>\n",
       "      <td>NaN</td>\n",
       "    </tr>\n",
       "  </tbody>\n",
       "</table>\n",
       "</div>"
      ],
      "text/plain": [
       "                                                       sum_sq    df  \\\n",
       "Intercept                                           20.337391   1.0   \n",
       "C(Pretreatment, Treatment(reference=\"Water\"))        0.009512   1.0   \n",
       "C(Sex, Sum)                                          0.140762   1.0   \n",
       "C(Pretreatment, Treatment(reference=\"Water\")):C...   0.002813   1.0   \n",
       "Residual                                             3.012459  37.0   \n",
       "\n",
       "                                                             F        PR(>F)  \n",
       "Intercept                                           249.790432  4.898356e-18  \n",
       "C(Pretreatment, Treatment(reference=\"Water\"))         0.116835  7.344268e-01  \n",
       "C(Sex, Sum)                                           1.728886  1.966449e-01  \n",
       "C(Pretreatment, Treatment(reference=\"Water\")):C...    0.034548  8.535608e-01  \n",
       "Residual                                                   NaN           NaN  "
      ]
     },
     "execution_count": 5,
     "metadata": {},
     "output_type": "execute_result"
    }
   ],
   "source": [
    "import statsmodels.api as sm\n",
    "from statsmodels.formula.api import ols\n",
    "\n",
    "df_sub = df.copy()\n",
    "df_sub['Fisher_z'] = zarray[:, 0]\n",
    "lm = ols(model, data=df_sub).fit()\n",
    "sm.stats.anova_lm(lm, typ=3)"
   ]
  },
  {
   "cell_type": "code",
   "execution_count": null,
   "id": "64ab6441",
   "metadata": {},
   "outputs": [
    {
     "data": {
      "text/html": [
       "<div>\n",
       "<style scoped>\n",
       "    .dataframe tbody tr th:only-of-type {\n",
       "        vertical-align: middle;\n",
       "    }\n",
       "\n",
       "    .dataframe tbody tr th {\n",
       "        vertical-align: top;\n",
       "    }\n",
       "\n",
       "    .dataframe thead th {\n",
       "        text-align: right;\n",
       "    }\n",
       "</style>\n",
       "<table border=\"1\" class=\"dataframe\">\n",
       "  <thead>\n",
       "    <tr style=\"text-align: right;\">\n",
       "      <th></th>\n",
       "      <th>terms</th>\n",
       "      <th>sum_sq</th>\n",
       "      <th>df</th>\n",
       "      <th>F</th>\n",
       "      <th>PR(&gt;F)</th>\n",
       "    </tr>\n",
       "  </thead>\n",
       "  <tbody>\n",
       "    <tr>\n",
       "      <th>0</th>\n",
       "      <td>Pretreatment</td>\n",
       "      <td>0.009512</td>\n",
       "      <td>1</td>\n",
       "      <td>0.116835</td>\n",
       "      <td>0.734427</td>\n",
       "    </tr>\n",
       "    <tr>\n",
       "      <th>1</th>\n",
       "      <td>Sex</td>\n",
       "      <td>0.140762</td>\n",
       "      <td>1</td>\n",
       "      <td>1.728886</td>\n",
       "      <td>0.196645</td>\n",
       "    </tr>\n",
       "    <tr>\n",
       "      <th>2</th>\n",
       "      <td>Pretreatment:Sex</td>\n",
       "      <td>0.002813</td>\n",
       "      <td>1</td>\n",
       "      <td>0.034548</td>\n",
       "      <td>0.853561</td>\n",
       "    </tr>\n",
       "    <tr>\n",
       "      <th>3</th>\n",
       "      <td>Residual</td>\n",
       "      <td>3.012459</td>\n",
       "      <td>37</td>\n",
       "      <td>NaN</td>\n",
       "      <td>NaN</td>\n",
       "    </tr>\n",
       "  </tbody>\n",
       "</table>\n",
       "</div>"
      ],
      "text/plain": [
       "              terms    sum_sq  df         F    PR(>F)\n",
       "0      Pretreatment  0.009512   1  0.116835  0.734427\n",
       "1               Sex  0.140762   1  1.728886  0.196645\n",
       "2  Pretreatment:Sex  0.002813   1  0.034548  0.853561\n",
       "3          Residual  3.012459  37       NaN       NaN"
      ]
     },
     "execution_count": 6,
     "metadata": {},
     "output_type": "execute_result"
    }
   ],
   "source": [
    "from camri.stats.inference.anova import Anova\n",
    "\n",
    "anova = Anova(model_est, typ=\"III\")\n",
    "anova.fit()\n",
    "sm = anova.summary()\n",
    "results = {\n",
    "    'terms': list(sm['terms']) + ['Residual'],\n",
    "    'sum_sq': list(sm['ss_terms'][:, 0]) + [sm['ss_resid'][0, 0]],\n",
    "    'df': list(sm['df_terms'][:, 0]) + [sm['df_resid']],\n",
    "    'F': list(sm['f_values'][:, 0]) + [np.nan],\n",
    "    'PR(>F)': list(sm['p_values'][:, 0]) + [np.nan]\n",
    "}\n",
    "pd.DataFrame(results)"
   ]
  },
  {
   "cell_type": "code",
   "execution_count": 12,
   "id": "ef4348dc",
   "metadata": {},
   "outputs": [],
   "source": [
    "from scipy.stats import t\n",
    "def contrast_t_test(model, contrast):\n",
    "    \"\"\"\n",
    "    Compute T-statistics and two-tailed p-values for a given linear contrast on a fitted OLS model.\n",
    "\n",
    "    Parameters\n",
    "    ----------\n",
    "    model : OLS\n",
    "        A fitted OLS model instance with attributes:\n",
    "        - X_: design matrix (n_samples, n_features)\n",
    "        - intercept_: array of shape (1, n_targets)\n",
    "        - coef_: array of shape (n_features-1, n_targets)\n",
    "        - resid: array of shape (n_samples, n_targets)\n",
    "        - statistics_[\"dof\"][\"error\"]: residual degrees of freedom\n",
    "    contrast : array_like, shape (n_features,)\n",
    "        Row vector specifying the linear contrast R of length equal to n_features.\n",
    "\n",
    "    Returns\n",
    "    -------\n",
    "    t_vals : ndarray, shape (n_targets,)\n",
    "        T-statistics for each target/voxel.\n",
    "    p_vals : ndarray, shape (n_targets,)\n",
    "        Two-tailed p-values for each target.\n",
    "    \"\"\"\n",
    "    # Design matrix and residuals\n",
    "    X = model.X_\n",
    "    resid = model.resid\n",
    "    df_resid = model.statistics_[\"dof\"][\"error\"]\n",
    "\n",
    "    # Stack intercept and coefficients -> shape (n_features, n_targets)\n",
    "    beta = np.vstack([model.intercept_, model.coef_])\n",
    "\n",
    "    # Residual variance for each target\n",
    "    scale = np.sum(resid**2, axis=0) / df_resid  # shape (n_targets,)\n",
    "\n",
    "    # Compute covariance of beta: (X^T X)^-1\n",
    "    XtX_inv = np.linalg.pinv(X.T @ X)  # shape (n_features, n_features)\n",
    "\n",
    "    # Numerator: R @ beta -> shape (n_targets,)\n",
    "    num = contrast @ beta  # shape (n_targets,)\n",
    "\n",
    "    # Denominator: sqrt(scale * R @ (X^T X)^-1 @ R^T)\n",
    "    var = contrast @ XtX_inv @ contrast.T  # scalar\n",
    "    se = np.sqrt(scale * var)  # shape (n_targets,)\n",
    "\n",
    "    # T-statistics and two-tailed p-values\n",
    "    t_vals = num / se\n",
    "    p_vals = 2 * (1 - t.cdf(np.abs(t_vals), df_resid))\n",
    "\n",
    "    return t_vals, p_vals"
   ]
  },
  {
   "cell_type": "code",
   "execution_count": null,
   "id": "9b197aa7",
   "metadata": {},
   "outputs": [],
   "source": [
    "r = np.zeros(4)\n",
    "# Ethanol - Water | Female [0, 1, 0, 1]\n",
    "r_ = r.copy()\n",
    "r_[1] = 1\n",
    "r_[3] = 1\n",
    "\n",
    "# Ethanol - Water | Male [0, 1, 0, -1]\n",
    "r_ = r.copy()\n",
    "r_[1] = 1\n",
    "r_[3] = -1\n",
    "\n",
    "# Female - Male | Water    [0, 0, 1, 0]\n",
    "r_ = r.copy()\n",
    "r_[2] = 1\n",
    "\n",
    "# Female - Male | Ethanol  [0, 0, 1, 1]\n",
    "r_ = r.copy()\n",
    "r_[2] = 1\n",
    "r_[3] = 1"
   ]
  },
  {
   "cell_type": "code",
   "execution_count": null,
   "id": "bb96a29a",
   "metadata": {},
   "outputs": [],
   "source": []
  },
  {
   "cell_type": "code",
   "execution_count": 16,
   "id": "f7ddcf53",
   "metadata": {},
   "outputs": [],
   "source": [
    "def generate_linear_data(n=100, noise=0.0, multi=False):\n",
    "    \"\"\"\n",
    "    Create a simple linear dataset: y = 2 + 3*x + noise.\n",
    "    If multi=True, returns two targets with different slopes.\n",
    "    \"\"\"\n",
    "    np.random.seed(0)\n",
    "    x = np.linspace(0, 1, n)\n",
    "    y_base = 2 + 3 * x + noise * np.random.randn(n)\n",
    "    df = pd.DataFrame({'x': x})\n",
    "    if not multi:\n",
    "        y = y_base.reshape(-1, 1)\n",
    "    else:\n",
    "        # Second target: y2 = 1 + 4*x\n",
    "        y2 = 1 + 4 * x + noise * np.random.randn(n)\n",
    "        y = np.vstack([y_base, y2]).T\n",
    "    return df, y"
   ]
  },
  {
   "cell_type": "code",
   "execution_count": 7,
   "id": "29788c1e",
   "metadata": {},
   "outputs": [],
   "source": [
    "\n",
    "df, y = generate_linear_data(n=50, noise=0.0)\n",
    "model = 'y ~ x'\n",
    "ols = OLS(model, df, y, fit_intercept=True)\n",
    "# fitted = ols.fit()\n",
    "\n",
    "# Check intercept and slope\n",
    "# assert np.allclose(fitted.intercept_, [[2.0]], atol=1e-6)\n",
    "# assert np.allclose(fitted.coef_, [[3.0]], atol=1e-6)\n",
    "\n",
    "# # Predictions match true values exactly\n",
    "# y_pred = fitted.predict()\n",
    "# assert y_pred.shape == y.shape\n",
    "# assert np.allclose(y_pred, y, atol=1e-6)\n",
    "\n",
    "# # Residuals are zero for noiseless data\n",
    "# resid = fitted.resid\n",
    "# assert np.allclose(resid, np.zeros_like(resid), atol=1e-8)"
   ]
  },
  {
   "cell_type": "code",
   "execution_count": 13,
   "id": "2dfbfc3a",
   "metadata": {},
   "outputs": [
    {
     "data": {
      "text/plain": [
       "True"
      ]
     },
     "execution_count": 13,
     "metadata": {},
     "output_type": "execute_result"
    }
   ],
   "source": [
    "from patsy.design_info import DesignMatrix\n",
    "isinstance(ols.X_, DesignMatrix)"
   ]
  },
  {
   "cell_type": "code",
   "execution_count": 12,
   "id": "d722dc64",
   "metadata": {},
   "outputs": [
    {
     "data": {
      "text/plain": [
       "patsy.design_info.DesignMatrix"
      ]
     },
     "execution_count": 12,
     "metadata": {},
     "output_type": "execute_result"
    }
   ],
   "source": [
    "type(ols.X_)"
   ]
  },
  {
   "cell_type": "code",
   "execution_count": null,
   "id": "0fc1d7ec",
   "metadata": {},
   "outputs": [
    {
     "data": {
      "image/png": "[encoded data removed]",
      "text/plain": [
       "<Figure size 600x400 with 1 Axes>"
      ]
     },
     "metadata": {},
     "output_type": "display_data"
    }
   ],
   "source": [
    "model_eval.plot_residuals(flatten=False, method=\"scatter\")"
   ]
  },
  {
   "cell_type": "code",
   "execution_count": null,
   "id": "05aca9fb",
   "metadata": {},
   "outputs": [
    {
     "data": {
      "image/png": "[encoded data removed]",
      "text/plain": [
       "<Figure size 600x400 with 1 Axes>"
      ]
     },
     "metadata": {},
     "output_type": "display_data"
    }
   ],
   "source": [
    "model_eval.plot_residuals(flatten=False, plot_summary=True)"
   ]
  },
  {
   "cell_type": "code",
   "execution_count": null,
   "id": "f710d208",
   "metadata": {},
   "outputs": [],
   "source": [
    "model_eval.statistics_"
   ]
  },
  {
   "cell_type": "code",
   "execution_count": null,
   "id": "f259ed7d",
   "metadata": {},
   "outputs": [],
   "source": []
  }
 ],
 "metadata": {
  "kernelspec": {
   "display_name": "labextension",
   "language": "python",
   "name": "python3"
  },
  "language_info": {
   "codemirror_mode": {
    "name": "ipython",
    "version": 3
   },
   "file_extension": ".py",
   "mimetype": "text/x-python",
   "name": "python",
   "nbconvert_exporter": "python",
   "pygments_lexer": "ipython3",
   "version": "3.10.14"
  }
 },
 "nbformat": 4,
 "nbformat_minor": 5
}
